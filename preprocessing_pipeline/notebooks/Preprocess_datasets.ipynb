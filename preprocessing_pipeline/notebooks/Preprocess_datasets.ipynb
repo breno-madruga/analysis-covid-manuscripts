{
 "cells": [
  {
   "cell_type": "markdown",
   "metadata": {},
   "source": [
    "# Preprocessing the COVID-19 manuscripts and 2020 InCites JCR datasets"
   ]
  },
  {
   "cell_type": "markdown",
   "metadata": {},
   "source": [
    "## 1. Importing the libraries"
   ]
  },
  {
   "cell_type": "code",
   "execution_count": null,
   "metadata": {},
   "outputs": [],
   "source": [
    "# Importing required libraries.\n",
    "import csv, pandas as pd, numpy as np"
   ]
  },
  {
   "cell_type": "markdown",
   "metadata": {},
   "source": [
    "## 2. Getting and checking the information dataset"
   ]
  },
  {
   "cell_type": "markdown",
   "metadata": {},
   "source": [
    "### 2.1. Production data"
   ]
  },
  {
   "cell_type": "code",
   "execution_count": null,
   "metadata": {},
   "outputs": [],
   "source": [
    "# Importing the data.\n",
    "df_data = pd.read_csv(\"../data/raw/final_covid_19.csv\", delimiter=\",\", header=0, dtype=object)"
   ]
  },
  {
   "cell_type": "code",
   "execution_count": null,
   "metadata": {},
   "outputs": [],
   "source": [
    "# Describing the data.\n",
    "df_data.describe()"
   ]
  },
  {
   "cell_type": "code",
   "execution_count": null,
   "metadata": {},
   "outputs": [],
   "source": [
    "# Checking some information about the data.\n",
    "df_data.info()"
   ]
  },
  {
   "cell_type": "code",
   "execution_count": null,
   "metadata": {},
   "outputs": [],
   "source": [
    "# Visualizing the first five records.\n",
    "df_data.head()"
   ]
  },
  {
   "cell_type": "markdown",
   "metadata": {},
   "source": [
    "### 2.2. InCites Journal Citation Reports (Web of Science)"
   ]
  },
  {
   "cell_type": "code",
   "execution_count": null,
   "metadata": {},
   "outputs": [],
   "source": [
    "# Importing the impact factor data.\n",
    "df_jcr = pd.read_csv(\"../../suplementary_data/incites_jcr_wos_2020.csv\", delimiter=\",\", header=0)"
   ]
  },
  {
   "cell_type": "code",
   "execution_count": null,
   "metadata": {},
   "outputs": [],
   "source": [
    "# Checking some information about the data of impact factor.\n",
    "df_jcr.info()"
   ]
  },
  {
   "cell_type": "code",
   "execution_count": null,
   "metadata": {},
   "outputs": [],
   "source": [
    "# Visualizing the first five records.\n",
    "df_jcr.head()"
   ]
  },
  {
   "cell_type": "markdown",
   "metadata": {},
   "source": [
    "### 2.3. Countries data"
   ]
  },
  {
   "cell_type": "code",
   "execution_count": null,
   "metadata": {},
   "outputs": [],
   "source": [
    "# Importing the countries data.\n",
    "df_countries = pd.read_csv(\"../../suplementary_data/countries.csv\", delimiter=\";\", header=0, index_col=None)"
   ]
  },
  {
   "cell_type": "code",
   "execution_count": null,
   "metadata": {},
   "outputs": [],
   "source": [
    "# Visualizing the first five records.\n",
    "df_countries.head()"
   ]
  },
  {
   "cell_type": "markdown",
   "metadata": {},
   "source": [
    "## 3. Cleaning the dataframes"
   ]
  },
  {
   "cell_type": "markdown",
   "metadata": {},
   "source": [
    "### 3.1. Production data"
   ]
  },
  {
   "cell_type": "code",
   "execution_count": null,
   "metadata": {},
   "outputs": [],
   "source": [
    "# Changing the type of some columns of Production data.\n",
    "df_data.citation_num = df_data.citation_num.astype(np.float32)\n",
    "df_data.ref_count = df_data.ref_count.astype(np.float32)\n",
    "df_data.publication_date = pd.to_datetime(df_data.publication_date, format=\"%Y-%m-%d\")"
   ]
  },
  {
   "cell_type": "code",
   "execution_count": null,
   "metadata": {},
   "outputs": [],
   "source": [
    "# Removing unnecessary columns of Production data.\n",
    "df_data.drop(axis=1, columns=\"doi\", inplace=True)"
   ]
  },
  {
   "cell_type": "code",
   "execution_count": null,
   "metadata": {},
   "outputs": [],
   "source": [
    "# Converting from the \"str\" type to the \"list\" type of some columns of Production data.\n",
    "df_data.replace({np.nan: None}, inplace=True)\n",
    "df_data.auth_keywords = df_data.auth_keywords.apply(lambda x: eval(x) if x else None)\n",
    "df_data.index_terms = df_data.index_terms.apply(lambda x: eval(x) if x else None)\n",
    "df_data.affiliations = df_data.affiliations.apply(lambda x: eval(x) if x else None)\n",
    "df_data.subject_areas = df_data.subject_areas.apply(lambda x: eval(x) if x else None)\n",
    "df_data.authors = df_data.authors.apply(lambda x: eval(x) if x else None)\n",
    "df_data.author_affil = df_data.author_affil.apply(lambda x: eval(x) if x else None)\n",
    "df_data.references = df_data.references.apply(lambda x: eval(x) if x else None)"
   ]
  },
  {
   "cell_type": "code",
   "execution_count": null,
   "metadata": {},
   "outputs": [],
   "source": [
    "# Defining the function to normalize the country from the \"author_affil\" and \"affiliations\" features.\n",
    "def normalize_countries(row):\n",
    "    if row.affiliations:\n",
    "        for pos, affil in enumerate(row.affiliations):\n",
    "            if not affil[\"country\"] and affil[\"affiliation\"]:\n",
    "                if df_countries.country[[str(c).lower().strip() in affil[\"affiliation\"].lower().strip()\n",
    "                                         for c in df_countries.country]].size > 0:\n",
    "                    row.affiliations[pos][\"country\"] = df_countries.country[\n",
    "                        [str(c).lower().strip() in affil[\"affiliation\"].lower().strip()\n",
    "                         for c in df_countries.country]].iloc[0]\n",
    "                elif df_countries.country[[str(c) in affil[\"affiliation\"]\n",
    "                                           for c in df_countries.acronym]].size > 0:\n",
    "                    row.affiliations[pos][\"country\"] = df_countries.country[\n",
    "                        [str(c) in affil[\"affiliation\"] for c in df_countries.acronym]\n",
    "                    ].iloc[0]\n",
    "            elif affil[\"country\"]:\n",
    "                temp = df_countries.country[df_countries.acronym.isin(df_countries.acronym[\n",
    "                            [str(c).lower().strip() in affil[\"country\"].lower().strip()\n",
    "                             for c in df_countries.country]].values)]\n",
    "                if temp.size > 0:\n",
    "                    row.affiliations[pos][\"country\"] = temp.iloc[0]\n",
    "\n",
    "    if row.author_affil:\n",
    "        for pos, author in enumerate(row.author_affil):\n",
    "            if not author[\"country\"] and author[\"affiliation\"]:\n",
    "                if df_countries.country[[str(c).lower().strip() in author[\"affiliation\"].lower().strip()\n",
    "                                         for c in df_countries.country]].size > 0:\n",
    "                    row.author_affil[pos][\"country\"] = df_countries.country[\n",
    "                        [str(c).lower().strip() in author[\"affiliation\"].lower().strip()\n",
    "                         for c in df_countries.country]].iloc[0]\n",
    "                elif df_countries.country[[str(c) in author[\"affiliation\"]\n",
    "                                           for c in df_countries.acronym]].size > 0:\n",
    "                    row.author_affil[pos][\"country\"] = df_countries.country[\n",
    "                        [str(c) in author[\"affiliation\"] for c in df_countries.acronym]\n",
    "                    ].iloc[0]\n",
    "            elif author[\"country\"]:\n",
    "                    temp = df_countries.country[df_countries.acronym.isin(df_countries.acronym[\n",
    "                            [str(c).lower().strip() in author[\"country\"].lower().strip()\n",
    "                             for c in df_countries.country]].values)]\n",
    "                    if temp.size > 0:\n",
    "                        row.author_affil[pos][\"country\"] = temp.iloc[0]\n",
    "\n",
    "    return row"
   ]
  },
  {
   "cell_type": "code",
   "execution_count": null,
   "metadata": {},
   "outputs": [],
   "source": [
    "# Applying the \"normalize_countries\" function to the data.\n",
    "df_data.loc[df_data.affiliations.notnull() | df_data.author_affil.notnull(),\n",
    "    [\"affiliations\", \"author_affil\"]] = df_data.loc[\n",
    "        df_data.affiliations.notnull() | df_data.author_affil.notnull(),\n",
    "        [\"affiliations\", \"author_affil\"]].apply(normalize_countries, axis=1)"
   ]
  },
  {
   "cell_type": "code",
   "execution_count": null,
   "metadata": {},
   "outputs": [],
   "source": [
    "# Extracting the countries from the feature \"author_affil\".\n",
    "df_data.loc[df_data.author_affil.notnull(), \"countries\"] = df_data.author_affil[\n",
    "    df_data.author_affil.notnull()].apply(lambda x: tuple(\n",
    "        [affil[\"country\"] for affil in x if affil[\"country\"]]))\n",
    "\n",
    "# Defining \"None\" to the papers without their affiliations.\n",
    "df_data.loc[df_data.countries.notnull(), \"countries\"] = df_data.countries.apply(\n",
    "    lambda x: x if x else None)"
   ]
  },
  {
   "cell_type": "code",
   "execution_count": null,
   "metadata": {},
   "outputs": [],
   "source": [
    "# Extracting the countries from the feature \"affiliations\".\n",
    "df_data.loc[df_data.affiliations.notnull() & df_data.countries.isnull(), \"countries\"] = \\\n",
    "df_data.affiliations[df_data.affiliations.notnull() & df_data.countries.isnull()].apply(\n",
    "    lambda x: tuple([affil[\"country\"] for affil in x if affil[\"country\"]]))\n",
    "\n",
    "# Defining \"None\" to the papers without their affiliations.\n",
    "df_data.loc[df_data.countries.notnull(), \"countries\"] = df_data.countries.apply(\n",
    "    lambda x: x if x else None)"
   ]
  },
  {
   "cell_type": "code",
   "execution_count": null,
   "metadata": {},
   "outputs": [],
   "source": [
    "# Defining the \"num_brazilian\" column for the number of brazilian people into the papers.\n",
    "df_data[\"num_brazilian\"] = [\n",
    "    len([country for country in countries if country == \"Brazil\"]) if type(countries) == tuple else None\n",
    "    for countries in df_data.countries.values\n",
    "]"
   ]
  },
  {
   "cell_type": "code",
   "execution_count": null,
   "metadata": {},
   "outputs": [],
   "source": [
    "# Defining the \"year\" column from the \"publication_date\" column.\n",
    "df_data[\"year\"] = pd.DatetimeIndex(df_data.publication_date).year\n",
    "\n",
    "# Defining the \"month\" column from the \"publication_date\" column.\n",
    "df_data[\"month\"] = pd.DatetimeIndex(df_data.publication_date).month"
   ]
  },
  {
   "cell_type": "code",
   "execution_count": null,
   "metadata": {},
   "outputs": [],
   "source": [
    "# Defining the \"preprint\" type.\n",
    "df_data.loc[~df_data.data_source.isin([\"Scopus\", \"PubMed\"]), \"production_type\"] = \"Preprint\"\n",
    "df_data.loc[~df_data.data_source.isin([\"Scopus\", \"PubMed\"]), \"source_type\"] = \"pp\""
   ]
  },
  {
   "cell_type": "code",
   "execution_count": null,
   "metadata": {},
   "outputs": [],
   "source": [
    "# Defining the \"Others\" type to PubMed database.\n",
    "df_data.loc[df_data.data_source == \"PubMed\", \"production_type\"] = \"Others\"\n",
    "df_data.loc[df_data.data_source == \"PubMed\", \"source_type\"] = \"o\""
   ]
  },
  {
   "cell_type": "code",
   "execution_count": null,
   "metadata": {},
   "outputs": [],
   "source": [
    "# Checking if there are duplicates by \"id\" column.\n",
    "print(\"Number of duplicated records:\", df_data[df_data.id.duplicated()].id.size)"
   ]
  },
  {
   "cell_type": "code",
   "execution_count": null,
   "metadata": {},
   "outputs": [],
   "source": [
    "# Removing the duplicated records.\n",
    "df_data.drop_duplicates(\"id\", inplace=True)"
   ]
  },
  {
   "cell_type": "code",
   "execution_count": null,
   "metadata": {},
   "outputs": [],
   "source": [
    "# Checking if there are duplicates by \"id\" column.\n",
    "print(\"Number of duplicated records:\", df_data[df_data.id.duplicated(keep=False)].id.size)"
   ]
  },
  {
   "cell_type": "markdown",
   "metadata": {},
   "source": [
    "### 3.2. InCites JCR (Web of Science)"
   ]
  },
  {
   "cell_type": "code",
   "execution_count": null,
   "metadata": {},
   "outputs": [],
   "source": [
    "# Changing the invalid values to \"None\".\n",
    "df_jcr.replace({np.nan: None, \"-\": None, \"****-****\": None,\n",
    "                \"Not Available\": None, \"N/A\": None, \"n/a\": None}, inplace=True)"
   ]
  },
  {
   "cell_type": "code",
   "execution_count": null,
   "metadata": {},
   "outputs": [],
   "source": [
    "# Normalizing the \"impact_factor_2020\" feature.\n",
    "df_jcr.impact_factor_2020.fillna(0, inplace=True)\n",
    "df_jcr.loc[df_jcr.impact_factor_2020.notnull(), \"impact_factor_2020\"] = \\\n",
    "df_jcr.loc[df_jcr.impact_factor_2020.notnull(), \"impact_factor_2020\"].apply(lambda x: float(x))"
   ]
  },
  {
   "cell_type": "code",
   "execution_count": null,
   "metadata": {},
   "outputs": [],
   "source": [
    "# Creating the \"label\" feature from the discretization of the impact factor.\n",
    "df_jcr.loc[df_jcr.impact_factor_2020.notnull(), \"label\"] = \\\n",
    "df_jcr.loc[df_jcr.impact_factor_2020.notnull(), \"impact_factor_2020\"].apply(\n",
    "    lambda x: \"E\" if x == 0 or not x else \"D\" if x < 1 else \"C\" \\\n",
    "        if 1 <= x <= 3 else \"B\" if 3 < x < 5 else \"A\")"
   ]
  },
  {
   "cell_type": "code",
   "execution_count": null,
   "metadata": {},
   "outputs": [],
   "source": [
    "# Removing the hyphen from ISSN and eISSN.\n",
    "df_jcr.issn = df_jcr.issn.apply(lambda x: x.replace(\"-\", \"\") if x else None)\n",
    "df_jcr.e_issn = df_jcr.e_issn.apply(lambda x: x.replace(\"-\", \"\") if x else None)"
   ]
  },
  {
   "cell_type": "code",
   "execution_count": null,
   "metadata": {},
   "outputs": [],
   "source": [
    "# Checking the result.\n",
    "df_jcr.head()"
   ]
  },
  {
   "cell_type": "code",
   "execution_count": null,
   "metadata": {},
   "outputs": [],
   "source": [
    "# Checking if there are duplicates.\n",
    "df_jcr[df_jcr.duplicated()].journal_name.size"
   ]
  },
  {
   "cell_type": "code",
   "execution_count": null,
   "metadata": {},
   "outputs": [],
   "source": [
    "# Removing the records duplicated.\n",
    "df_jcr.drop_duplicates(inplace=True)"
   ]
  },
  {
   "cell_type": "markdown",
   "metadata": {},
   "source": [
    "## 4. Saving the data"
   ]
  },
  {
   "cell_type": "code",
   "execution_count": null,
   "metadata": {},
   "outputs": [],
   "source": [
    "# Saving the Production data.\n",
    "df_data.to_csv(\"../data/raw/manuscript_covid_processed.csv\", index=False, quoting=csv.QUOTE_ALL)"
   ]
  },
  {
   "cell_type": "code",
   "execution_count": null,
   "metadata": {},
   "outputs": [],
   "source": [
    "# Saving the 2020 InCites JCR data.\n",
    "df_jcr.to_csv(\"../data/raw/jcr_2020_processed.csv\", index=False, quoting=csv.QUOTE_ALL)"
   ]
  }
 ],
 "metadata": {
  "interpreter": {
   "hash": "f50bd5474255f82aa829301912ce59e29110123be660cf8d7583f66a20371684"
  },
  "kernelspec": {
   "display_name": "Python 3 (ipykernel)",
   "language": "python",
   "name": "python3"
  },
  "language_info": {
   "codemirror_mode": {
    "name": "ipython",
    "version": 3
   },
   "file_extension": ".py",
   "mimetype": "text/x-python",
   "name": "python",
   "nbconvert_exporter": "python",
   "pygments_lexer": "ipython3",
   "version": "3.9.7"
  }
 },
 "nbformat": 4,
 "nbformat_minor": 4
}
