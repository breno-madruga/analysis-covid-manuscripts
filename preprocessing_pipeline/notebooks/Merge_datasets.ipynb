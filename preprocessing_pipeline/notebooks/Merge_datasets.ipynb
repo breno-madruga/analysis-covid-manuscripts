{
 "cells": [
  {
   "cell_type": "markdown",
   "metadata": {},
   "source": [
    "# Merging the COVID-19 manuscripts dataset with the 2020 InCites JCR"
   ]
  },
  {
   "cell_type": "markdown",
   "metadata": {},
   "source": [
    "## 1. Importing the libraries"
   ]
  },
  {
   "cell_type": "code",
   "execution_count": null,
   "metadata": {},
   "outputs": [],
   "source": [
    "# Importing required libraries.\n",
    "import csv, pandas as pd, numpy as np"
   ]
  },
  {
   "cell_type": "markdown",
   "metadata": {},
   "source": [
    "## 2. Getting and checking the information dataset"
   ]
  },
  {
   "cell_type": "markdown",
   "metadata": {},
   "source": [
    "### 2.1. Production data"
   ]
  },
  {
   "cell_type": "code",
   "execution_count": null,
   "metadata": {},
   "outputs": [],
   "source": [
    "# Importing the data.\n",
    "df_data = pd.read_csv(\"../data/raw/manuscript_covid_processed.csv\", delimiter=\",\", header=0, dtype=object)"
   ]
  },
  {
   "cell_type": "code",
   "execution_count": null,
   "metadata": {},
   "outputs": [],
   "source": [
    "# Describing the data.\n",
    "df_data.describe()"
   ]
  },
  {
   "cell_type": "code",
   "execution_count": null,
   "metadata": {},
   "outputs": [],
   "source": [
    "# Checking some information about the data.\n",
    "df_data.info()"
   ]
  },
  {
   "cell_type": "code",
   "execution_count": null,
   "metadata": {},
   "outputs": [],
   "source": [
    "# Visualizing the first five records.\n",
    "df_data.head()"
   ]
  },
  {
   "cell_type": "markdown",
   "metadata": {},
   "source": [
    "### 2.2. InCites Journal Citation Reports (Web of Science)"
   ]
  },
  {
   "cell_type": "code",
   "execution_count": null,
   "metadata": {},
   "outputs": [],
   "source": [
    "# Importing the impact factor data.\n",
    "df_jcr = pd.read_csv(\"../data/raw/jcr_2020_processed.csv\", delimiter=\",\", header=0)"
   ]
  },
  {
   "cell_type": "code",
   "execution_count": null,
   "metadata": {},
   "outputs": [],
   "source": [
    "# Checking some information about the data of impact factor.\n",
    "df_jcr.info()"
   ]
  },
  {
   "cell_type": "code",
   "execution_count": null,
   "metadata": {},
   "outputs": [],
   "source": [
    "# Visualizing the first five records.\n",
    "df_jcr.head()"
   ]
  },
  {
   "cell_type": "markdown",
   "metadata": {},
   "source": [
    "## 3. Cleaning the dataframes"
   ]
  },
  {
   "cell_type": "markdown",
   "metadata": {},
   "source": [
    "### 3.1. Production data"
   ]
  },
  {
   "cell_type": "code",
   "execution_count": null,
   "metadata": {},
   "outputs": [],
   "source": [
    "# Changing the type of some columns of Production data.\n",
    "df_data.citation_num = df_data.citation_num.astype(np.float32)\n",
    "df_data.ref_count = df_data.ref_count.astype(np.float32)\n",
    "df_data.publication_date = pd.to_datetime(df_data.publication_date, format=\"%Y-%m-%d\")"
   ]
  },
  {
   "cell_type": "code",
   "execution_count": null,
   "metadata": {},
   "outputs": [],
   "source": [
    "# Converting from the \"str\" type to the \"list\" type of some columns of Production data.\n",
    "df_data.replace({np.nan: None}, inplace=True)\n",
    "df_data.auth_keywords = df_data.auth_keywords.apply(lambda x: eval(x) if x else None)\n",
    "df_data.index_terms = df_data.index_terms.apply(lambda x: eval(x) if x else None)\n",
    "df_data.affiliations = df_data.affiliations.apply(lambda x: eval(x) if x else None)\n",
    "df_data.subject_areas = df_data.subject_areas.apply(lambda x: eval(x) if x else None)\n",
    "df_data.authors = df_data.authors.apply(lambda x: eval(x) if x else None)\n",
    "df_data.author_affil = df_data.author_affil.apply(lambda x: eval(x) if x else None)\n",
    "df_data.references = df_data.references.apply(lambda x: eval(x) if x else None)"
   ]
  },
  {
   "cell_type": "markdown",
   "metadata": {},
   "source": [
    "### 3.2. InCites JCR (Web of Science)"
   ]
  },
  {
   "cell_type": "code",
   "execution_count": null,
   "metadata": {},
   "outputs": [],
   "source": [
    "# Changing the invalid values to \"None\".\n",
    "df_jcr.replace({np.nan: None}, inplace=True)"
   ]
  },
  {
   "cell_type": "markdown",
   "metadata": {},
   "source": [
    "## 4. Merging the production dataframe with JCR dataset"
   ]
  },
  {
   "cell_type": "code",
   "execution_count": null,
   "metadata": {},
   "outputs": [],
   "source": [
    "# Merging in order to get the \"impact factor\" for each journal article.\n",
    "columns = df_jcr.columns.tolist()\n",
    "columns.remove(\"issn\")\n",
    "columns.remove(\"e_issn\")\n",
    "df_data = df_data.reindex(columns=[*df_data.columns.tolist(), *columns])\n",
    "df_data.loc[df_data.issn.notnull(), columns] = df_data.issn[\n",
    "    df_data.issn.notnull()].apply(lambda x: df_jcr.loc[\n",
    "        df_jcr.issn.isin(x.split()) | df_jcr.e_issn.isin(x.split()), columns].iloc[0] \\\n",
    "            if df_jcr.issn.isin(x.split()).any() or df_jcr.e_issn.isin(x.split()).any() \\\n",
    "                else pd.Series(dict(zip(columns, [None] * len(columns)))))"
   ]
  },
  {
   "cell_type": "code",
   "execution_count": null,
   "metadata": {},
   "outputs": [],
   "source": [
    "# Updating the \"impact factor\" to the journal articles without it.\n",
    "df_data.loc[df_data.impact_factor_2020.isnull() & df_data.source_type.isin([\"j\", \"d\"]),\n",
    "    \"impact_factor_2020\"] = 0"
   ]
  },
  {
   "cell_type": "code",
   "execution_count": null,
   "metadata": {},
   "outputs": [],
   "source": [
    "# Updating the \"label\" to the journal articles without it.\n",
    "df_data.loc[df_data.label.isnull() & df_data.source_type.isin([\"j\", \"d\"]), \"label\"] = \"E\""
   ]
  },
  {
   "cell_type": "code",
   "execution_count": null,
   "metadata": {},
   "outputs": [],
   "source": [
    "# Changing the invalid values to \"None\".\n",
    "df_data.replace({np.nan: None}, inplace=True)"
   ]
  },
  {
   "cell_type": "code",
   "execution_count": null,
   "metadata": {},
   "outputs": [],
   "source": [
    "# Showing the result.\n",
    "df_data.tail()"
   ]
  },
  {
   "cell_type": "markdown",
   "metadata": {},
   "source": [
    "## 5. Saving the data"
   ]
  },
  {
   "cell_type": "code",
   "execution_count": null,
   "metadata": {},
   "outputs": [],
   "source": [
    "# Saving the final dataset.\n",
    "df_data.to_csv(\"../data/prepared/final_manuscript_covid.csv\", index=False, quoting=csv.QUOTE_ALL)"
   ]
  }
 ],
 "metadata": {
  "interpreter": {
   "hash": "f50bd5474255f82aa829301912ce59e29110123be660cf8d7583f66a20371684"
  },
  "kernelspec": {
   "display_name": "Python 3 (ipykernel)",
   "language": "python",
   "name": "python3"
  },
  "language_info": {
   "codemirror_mode": {
    "name": "ipython",
    "version": 3
   },
   "file_extension": ".py",
   "mimetype": "text/x-python",
   "name": "python",
   "nbconvert_exporter": "python",
   "pygments_lexer": "ipython3",
   "version": "3.9.7"
  }
 },
 "nbformat": 4,
 "nbformat_minor": 4
}
